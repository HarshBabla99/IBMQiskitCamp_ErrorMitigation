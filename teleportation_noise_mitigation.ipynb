{
 "cells": [
  {
   "cell_type": "markdown",
   "metadata": {},
   "source": [
    "# Noise Mitigation on 1-bit Teleportation:"
   ]
  },
  {
   "cell_type": "markdown",
   "metadata": {},
   "source": [
    "## Circuit:"
   ]
  },
  {
   "cell_type": "code",
   "execution_count": 1,
   "metadata": {},
   "outputs": [],
   "source": [
    "import numpy as np\n",
    "import matplotlib.pyplot as plt\n",
    "%matplotlib inline  \n",
    "\n",
    "import qiskit\n",
    "from qiskit import QuantumCircuit, QuantumRegister, ClassicalRegister\n",
    "from qiskit.tools import visualization as qplt\n",
    "\n",
    "import NoisyQuantumCircuit as NoisyQuantumCircuit"
   ]
  },
  {
   "cell_type": "code",
   "execution_count": 2,
   "metadata": {},
   "outputs": [],
   "source": [
    "from qiskit import Aer\n",
    "import qiskit.providers.aer as aer\n",
    "from qiskit.providers.aer import QasmSimulator, StatevectorSimulator, UnitarySimulator"
   ]
  },
  {
   "cell_type": "code",
   "execution_count": 3,
   "metadata": {},
   "outputs": [],
   "source": [
    "# Import the noise model object\n",
    "from qiskit.providers.aer.noise import NoiseModel\n",
    "\n",
    "# Import all standard errors\n",
    "from qiskit.providers.aer.noise.errors import *  \n",
    "\n",
    "# Import noise base clases\n",
    "from qiskit.providers.aer.noise.errors.quantum_error import QuantumError\n",
    "from qiskit.providers.aer.noise.errors.readout_error import ReadoutError\n",
    "\n",
    "# Import Complex math + random numbers\n",
    "import random\n",
    "from cmath import *"
   ]
  },
  {
   "cell_type": "code",
   "execution_count": 4,
   "metadata": {},
   "outputs": [],
   "source": [
    "def get_random_state():\n",
    "    theta = np.pi*random.random()\n",
    "    phi = 2*np.pi*random.random()\n",
    "\n",
    "    a = np.cos(theta/2)\n",
    "    b = rect(1,phi)*np.sin(theta/2)\n",
    "    \n",
    "    return a, b, theta, phi"
   ]
  },
  {
   "cell_type": "code",
   "execution_count": 30,
   "metadata": {},
   "outputs": [],
   "source": [
    "def CompileAndTeleport(errors1Qubit, errors2Qubit, nQubits = 2, numShots = 1024, debug = False):\n",
    "    \n",
    "    # Simulator, and constants\n",
    "    qSimulator = QasmSimulator() \n",
    "    \n",
    "    # System Specification\n",
    "    qReg = QuantumRegister(nQubits)\n",
    "    cReg = ClassicalRegister(nQubits)\n",
    "    #qNoisyCirc = NoisyQuantumCircuit.NoisyQuantumCircuit(qReg, cReg, nQubits, errors1Qubit, errors2Qubit)\n",
    "    \n",
    "    qCirc = QuantumCircuit(qReg,cReg)\n",
    "    \n",
    "    # Initialize to a random initial state\n",
    "    a0,b0, theta, phi = get_random_state()\n",
    "    qCirc.u3(theta, phi, 0, qReg[0])\n",
    "    \n",
    "    # Teleportation Circuit\n",
    "    qCirc.cx(qReg[0], qReg[1])\n",
    "    qCirc.h(qReg[0])\n",
    "\n",
    "    qCirc.barrier(qReg)\n",
    "    qCirc.measure(qReg[0], cReg[0])\n",
    "\n",
    "    qCirc.z(qReg[1]).c_if(cReg, 1)\n",
    "\n",
    "    # Measure\n",
    "    qCirc.measure(qReg[1], cReg[1])\n",
    "    \n",
    "    # Debug: Print the error model and plot the circuit\n",
    "    if(debug):\n",
    "        print(\"Errors: \")\n",
    "        for errors in zip(errors1Qubit, errors2Qubit):\n",
    "            print(errors)\n",
    "        #print(qNoisyCirc.draw())\n",
    "    \n",
    "    # Execute the noisy simulation\n",
    "    qNoisyCirc = NoisyQuantumCircuit.NoisyQuantumCircuit(qCirc, nQubits, errors1Qubit, errors2Qubit)\n",
    "    result = qiskit.execute(qNoisyCirc.getQuantumCircuit(), qSimulator, shots=numShots, \n",
    "                           basis_gates = qNoisyCirc.getNoiseModel().basis_gates,\n",
    "                           noise_model = qNoisyCirc.getNoiseModel()).result()\n",
    "    counts = result.get_counts(0)\n",
    "\n",
    "    if(debug):\n",
    "        print(counts)\n",
    "        \n",
    "    \n",
    "    # Return magnitudes of a0, b0 instead:\n",
    "    mag_a0 = np.sqrt(a0*a0.conjugate()).real\n",
    "    mag_b0 = np.sqrt(b0*b0.conjugate()).real\n",
    "    \n",
    "    return (counts, mag_a0, mag_b0)"
   ]
  },
  {
   "cell_type": "markdown",
   "metadata": {},
   "source": [
    "## Try with one simulation - Thermal Relaxation T1 noise"
   ]
  },
  {
   "cell_type": "code",
   "execution_count": 31,
   "metadata": {},
   "outputs": [
    {
     "name": "stdout",
     "output_type": "stream",
     "text": [
      "Errors: \n",
      "(QuantumError([([{'name': 'kraus', 'qubits': [0], 'params': [array([[1.        , 0.        ],\n",
      "       [0.        , 0.99739922]]), array([[0.        , 0.07207492],\n",
      "       [0.        , 0.        ]])]}], 1)]), QuantumError([([{'name': 'kraus', 'qubits': [0, 1], 'params': [array([[1.        , 0.        , 0.        , 0.        ],\n",
      "       [0.        , 0.99739922, 0.        , 0.        ],\n",
      "       [0.        , 0.        , 0.99739922, 0.        ],\n",
      "       [0.        , 0.        , 0.        , 0.99480521]]), array([[0.        , 0.        , 0.07207492, 0.        ],\n",
      "       [0.        , 0.        , 0.        , 0.07188746],\n",
      "       [0.        , 0.        , 0.        , 0.        ],\n",
      "       [0.        , 0.        , 0.        , 0.        ]]), array([[0.        , 0.07207492, 0.        , 0.        ],\n",
      "       [0.        , 0.        , 0.        , 0.        ],\n",
      "       [0.        , 0.        , 0.        , 0.07188746],\n",
      "       [0.        , 0.        , 0.        , 0.        ]]), array([[0.        , 0.        , 0.        , 0.00519479],\n",
      "       [0.        , 0.        , 0.        , 0.        ],\n",
      "       [0.        , 0.        , 0.        , 0.        ],\n",
      "       [0.        , 0.        , 0.        , 0.        ]])]}], 1)]))\n",
      "{'10': 3, '00': 523, '01': 491, '11': 7}\n",
      "{'10': 3, '00': 523, '01': 491, '11': 7}\n"
     ]
    },
    {
     "data": {
      "image/png": "[encoded data removed]",
      "text/plain": [
       "<Figure size 504x360 with 1 Axes>"
      ]
     },
     "execution_count": 31,
     "metadata": {},
     "output_type": "execute_result"
    }
   ],
   "source": [
    "T1 = 12000  # nanoseconds\n",
    "T2 = T1 * 2 # nanoseconds\n",
    "Tau0 = 50   # nanoseconds    \n",
    "pulseWidth = 1.25*Tau0\n",
    "\n",
    "thermalError1bit = thermal_relaxation_error(T1, T2, pulseWidth)\n",
    "thermalError2bit = thermal_relaxation_error(T1, T2, pulseWidth).kron(\n",
    "                    thermal_relaxation_error(T1, T2, pulseWidth))\n",
    "\n",
    "\n",
    "return_list = CompileAndTeleport(debug = True, \n",
    "                            errors1Qubit = [thermalError1bit], errors2Qubit = [thermalError2bit])\n",
    "counts = return_list[0]\n",
    "mag_a0 = return_list[1]\n",
    "mag_b0 = return_list[2]\n",
    "\n",
    "print(counts)\n",
    "qplt.plot_histogram(counts)"
   ]
  },
  {
   "cell_type": "code",
   "execution_count": 32,
   "metadata": {},
   "outputs": [
    {
     "data": {
      "image/png": "[encoded data removed]",
      "text/plain": [
       "<Figure size 504x360 with 1 Axes>"
      ]
     },
     "execution_count": 32,
     "metadata": {},
     "output_type": "execute_result"
    }
   ],
   "source": [
    "bob = {}\n",
    "bob['0'] = counts['00'] + counts['01']\n",
    "bob['1'] = counts['10'] + counts['11'] \n",
    "qplt.plot_histogram(bob)"
   ]
  },
  {
   "cell_type": "code",
   "execution_count": 33,
   "metadata": {},
   "outputs": [
    {
     "name": "stdout",
     "output_type": "stream",
     "text": [
      "Initial mag: 0.9960161225119198 0.08917333511941992\n",
      "Final amp: 0.9951052080056662 0.09882117688026186\n",
      "Fidelity: 0.9999530446920601\n"
     ]
    }
   ],
   "source": [
    "a1 = np.sqrt(bob['0']/(bob['0']+bob['1']))\n",
    "b1 = np.sqrt(bob['1']/(bob['0']+bob['1']))\n",
    "\n",
    "print(\"Initial mag:\", mag_a0, mag_b0)\n",
    "print(\"Final amp:\", a1, b1)\n",
    "\n",
    "fidelity = ((mag_a0*a1) + (mag_b0*b1)).real\n",
    "\n",
    "print(\"Fidelity:\", fidelity)"
   ]
  },
  {
   "cell_type": "markdown",
   "metadata": {},
   "source": [
    "## Multiple Simulations"
   ]
  },
  {
   "cell_type": "code",
   "execution_count": 36,
   "metadata": {},
   "outputs": [
    {
     "ename": "ValueError",
     "evalue": "x and y must have same first dimension, but have shapes (6,) and (1,)",
     "output_type": "error",
     "traceback": [
      "\u001b[0;31m---------------------------------------------------------------------------\u001b[0m",
      "\u001b[0;31mValueError\u001b[0m                                Traceback (most recent call last)",
      "\u001b[0;32m<ipython-input-36-6014a4496bf8>\u001b[0m in \u001b[0;36m<module>\u001b[0;34m\u001b[0m\n\u001b[1;32m     33\u001b[0m     \u001b[0myAggregator\u001b[0m\u001b[0;34m.\u001b[0m\u001b[0mappend\u001b[0m\u001b[0;34m(\u001b[0m\u001b[0mfidelity\u001b[0m\u001b[0;34m)\u001b[0m\u001b[0;34m\u001b[0m\u001b[0;34m\u001b[0m\u001b[0m\n\u001b[1;32m     34\u001b[0m \u001b[0;34m\u001b[0m\u001b[0m\n\u001b[0;32m---> 35\u001b[0;31m \u001b[0mplt\u001b[0m\u001b[0;34m.\u001b[0m\u001b[0mplot\u001b[0m\u001b[0;34m(\u001b[0m\u001b[0mstretchFactors\u001b[0m\u001b[0;34m,\u001b[0m \u001b[0my\u001b[0m\u001b[0;34m,\u001b[0m \u001b[0mlabel\u001b[0m\u001b[0;34m=\u001b[0m\u001b[0;34m\"stretch factor = {0}\"\u001b[0m\u001b[0;34m.\u001b[0m\u001b[0mformat\u001b[0m\u001b[0;34m(\u001b[0m\u001b[0msf\u001b[0m\u001b[0;34m)\u001b[0m\u001b[0;34m)\u001b[0m\u001b[0;34m\u001b[0m\u001b[0;34m\u001b[0m\u001b[0m\n\u001b[0m\u001b[1;32m     36\u001b[0m \u001b[0;34m\u001b[0m\u001b[0m\n\u001b[1;32m     37\u001b[0m \u001b[0mplt\u001b[0m\u001b[0;34m.\u001b[0m\u001b[0mlegend\u001b[0m\u001b[0;34m(\u001b[0m\u001b[0;34m)\u001b[0m\u001b[0;34m\u001b[0m\u001b[0;34m\u001b[0m\u001b[0m\n",
      "\u001b[0;32m~/anaconda3/envs/qiskit/lib/python3.7/site-packages/matplotlib/pyplot.py\u001b[0m in \u001b[0;36mplot\u001b[0;34m(scalex, scaley, data, *args, **kwargs)\u001b[0m\n\u001b[1;32m   2811\u001b[0m     return gca().plot(\n\u001b[1;32m   2812\u001b[0m         *args, scalex=scalex, scaley=scaley, **({\"data\": data} if data\n\u001b[0;32m-> 2813\u001b[0;31m         is not None else {}), **kwargs)\n\u001b[0m\u001b[1;32m   2814\u001b[0m \u001b[0;34m\u001b[0m\u001b[0m\n\u001b[1;32m   2815\u001b[0m \u001b[0;34m\u001b[0m\u001b[0m\n",
      "\u001b[0;32m~/anaconda3/envs/qiskit/lib/python3.7/site-packages/matplotlib/__init__.py\u001b[0m in \u001b[0;36minner\u001b[0;34m(ax, data, *args, **kwargs)\u001b[0m\n\u001b[1;32m   1808\u001b[0m                         \u001b[0;34m\"the Matplotlib list!)\"\u001b[0m \u001b[0;34m%\u001b[0m \u001b[0;34m(\u001b[0m\u001b[0mlabel_namer\u001b[0m\u001b[0;34m,\u001b[0m \u001b[0mfunc\u001b[0m\u001b[0;34m.\u001b[0m\u001b[0m__name__\u001b[0m\u001b[0;34m)\u001b[0m\u001b[0;34m,\u001b[0m\u001b[0;34m\u001b[0m\u001b[0;34m\u001b[0m\u001b[0m\n\u001b[1;32m   1809\u001b[0m                         RuntimeWarning, stacklevel=2)\n\u001b[0;32m-> 1810\u001b[0;31m             \u001b[0;32mreturn\u001b[0m \u001b[0mfunc\u001b[0m\u001b[0;34m(\u001b[0m\u001b[0max\u001b[0m\u001b[0;34m,\u001b[0m \u001b[0;34m*\u001b[0m\u001b[0margs\u001b[0m\u001b[0;34m,\u001b[0m \u001b[0;34m**\u001b[0m\u001b[0mkwargs\u001b[0m\u001b[0;34m)\u001b[0m\u001b[0;34m\u001b[0m\u001b[0;34m\u001b[0m\u001b[0m\n\u001b[0m\u001b[1;32m   1811\u001b[0m \u001b[0;34m\u001b[0m\u001b[0m\n\u001b[1;32m   1812\u001b[0m         inner.__doc__ = _add_data_doc(inner.__doc__,\n",
      "\u001b[0;32m~/anaconda3/envs/qiskit/lib/python3.7/site-packages/matplotlib/axes/_axes.py\u001b[0m in \u001b[0;36mplot\u001b[0;34m(self, scalex, scaley, *args, **kwargs)\u001b[0m\n\u001b[1;32m   1609\u001b[0m         \u001b[0mkwargs\u001b[0m \u001b[0;34m=\u001b[0m \u001b[0mcbook\u001b[0m\u001b[0;34m.\u001b[0m\u001b[0mnormalize_kwargs\u001b[0m\u001b[0;34m(\u001b[0m\u001b[0mkwargs\u001b[0m\u001b[0;34m,\u001b[0m \u001b[0mmlines\u001b[0m\u001b[0;34m.\u001b[0m\u001b[0mLine2D\u001b[0m\u001b[0;34m.\u001b[0m\u001b[0m_alias_map\u001b[0m\u001b[0;34m)\u001b[0m\u001b[0;34m\u001b[0m\u001b[0;34m\u001b[0m\u001b[0m\n\u001b[1;32m   1610\u001b[0m \u001b[0;34m\u001b[0m\u001b[0m\n\u001b[0;32m-> 1611\u001b[0;31m         \u001b[0;32mfor\u001b[0m \u001b[0mline\u001b[0m \u001b[0;32min\u001b[0m \u001b[0mself\u001b[0m\u001b[0;34m.\u001b[0m\u001b[0m_get_lines\u001b[0m\u001b[0;34m(\u001b[0m\u001b[0;34m*\u001b[0m\u001b[0margs\u001b[0m\u001b[0;34m,\u001b[0m \u001b[0;34m**\u001b[0m\u001b[0mkwargs\u001b[0m\u001b[0;34m)\u001b[0m\u001b[0;34m:\u001b[0m\u001b[0;34m\u001b[0m\u001b[0;34m\u001b[0m\u001b[0m\n\u001b[0m\u001b[1;32m   1612\u001b[0m             \u001b[0mself\u001b[0m\u001b[0;34m.\u001b[0m\u001b[0madd_line\u001b[0m\u001b[0;34m(\u001b[0m\u001b[0mline\u001b[0m\u001b[0;34m)\u001b[0m\u001b[0;34m\u001b[0m\u001b[0;34m\u001b[0m\u001b[0m\n\u001b[1;32m   1613\u001b[0m             \u001b[0mlines\u001b[0m\u001b[0;34m.\u001b[0m\u001b[0mappend\u001b[0m\u001b[0;34m(\u001b[0m\u001b[0mline\u001b[0m\u001b[0;34m)\u001b[0m\u001b[0;34m\u001b[0m\u001b[0;34m\u001b[0m\u001b[0m\n",
      "\u001b[0;32m~/anaconda3/envs/qiskit/lib/python3.7/site-packages/matplotlib/axes/_base.py\u001b[0m in \u001b[0;36m_grab_next_args\u001b[0;34m(self, *args, **kwargs)\u001b[0m\n\u001b[1;32m    391\u001b[0m                 \u001b[0mthis\u001b[0m \u001b[0;34m+=\u001b[0m \u001b[0margs\u001b[0m\u001b[0;34m[\u001b[0m\u001b[0;36m0\u001b[0m\u001b[0;34m]\u001b[0m\u001b[0;34m,\u001b[0m\u001b[0;34m\u001b[0m\u001b[0;34m\u001b[0m\u001b[0m\n\u001b[1;32m    392\u001b[0m                 \u001b[0margs\u001b[0m \u001b[0;34m=\u001b[0m \u001b[0margs\u001b[0m\u001b[0;34m[\u001b[0m\u001b[0;36m1\u001b[0m\u001b[0;34m:\u001b[0m\u001b[0;34m]\u001b[0m\u001b[0;34m\u001b[0m\u001b[0;34m\u001b[0m\u001b[0m\n\u001b[0;32m--> 393\u001b[0;31m             \u001b[0;32myield\u001b[0m \u001b[0;32mfrom\u001b[0m \u001b[0mself\u001b[0m\u001b[0;34m.\u001b[0m\u001b[0m_plot_args\u001b[0m\u001b[0;34m(\u001b[0m\u001b[0mthis\u001b[0m\u001b[0;34m,\u001b[0m \u001b[0mkwargs\u001b[0m\u001b[0;34m)\u001b[0m\u001b[0;34m\u001b[0m\u001b[0;34m\u001b[0m\u001b[0m\n\u001b[0m\u001b[1;32m    394\u001b[0m \u001b[0;34m\u001b[0m\u001b[0m\n\u001b[1;32m    395\u001b[0m \u001b[0;34m\u001b[0m\u001b[0m\n",
      "\u001b[0;32m~/anaconda3/envs/qiskit/lib/python3.7/site-packages/matplotlib/axes/_base.py\u001b[0m in \u001b[0;36m_plot_args\u001b[0;34m(self, tup, kwargs)\u001b[0m\n\u001b[1;32m    368\u001b[0m             \u001b[0mx\u001b[0m\u001b[0;34m,\u001b[0m \u001b[0my\u001b[0m \u001b[0;34m=\u001b[0m \u001b[0mindex_of\u001b[0m\u001b[0;34m(\u001b[0m\u001b[0mtup\u001b[0m\u001b[0;34m[\u001b[0m\u001b[0;34m-\u001b[0m\u001b[0;36m1\u001b[0m\u001b[0;34m]\u001b[0m\u001b[0;34m)\u001b[0m\u001b[0;34m\u001b[0m\u001b[0;34m\u001b[0m\u001b[0m\n\u001b[1;32m    369\u001b[0m \u001b[0;34m\u001b[0m\u001b[0m\n\u001b[0;32m--> 370\u001b[0;31m         \u001b[0mx\u001b[0m\u001b[0;34m,\u001b[0m \u001b[0my\u001b[0m \u001b[0;34m=\u001b[0m \u001b[0mself\u001b[0m\u001b[0;34m.\u001b[0m\u001b[0m_xy_from_xy\u001b[0m\u001b[0;34m(\u001b[0m\u001b[0mx\u001b[0m\u001b[0;34m,\u001b[0m \u001b[0my\u001b[0m\u001b[0;34m)\u001b[0m\u001b[0;34m\u001b[0m\u001b[0;34m\u001b[0m\u001b[0m\n\u001b[0m\u001b[1;32m    371\u001b[0m \u001b[0;34m\u001b[0m\u001b[0m\n\u001b[1;32m    372\u001b[0m         \u001b[0;32mif\u001b[0m \u001b[0mself\u001b[0m\u001b[0;34m.\u001b[0m\u001b[0mcommand\u001b[0m \u001b[0;34m==\u001b[0m \u001b[0;34m'plot'\u001b[0m\u001b[0;34m:\u001b[0m\u001b[0;34m\u001b[0m\u001b[0;34m\u001b[0m\u001b[0m\n",
      "\u001b[0;32m~/anaconda3/envs/qiskit/lib/python3.7/site-packages/matplotlib/axes/_base.py\u001b[0m in \u001b[0;36m_xy_from_xy\u001b[0;34m(self, x, y)\u001b[0m\n\u001b[1;32m    229\u001b[0m         \u001b[0;32mif\u001b[0m \u001b[0mx\u001b[0m\u001b[0;34m.\u001b[0m\u001b[0mshape\u001b[0m\u001b[0;34m[\u001b[0m\u001b[0;36m0\u001b[0m\u001b[0;34m]\u001b[0m \u001b[0;34m!=\u001b[0m \u001b[0my\u001b[0m\u001b[0;34m.\u001b[0m\u001b[0mshape\u001b[0m\u001b[0;34m[\u001b[0m\u001b[0;36m0\u001b[0m\u001b[0;34m]\u001b[0m\u001b[0;34m:\u001b[0m\u001b[0;34m\u001b[0m\u001b[0;34m\u001b[0m\u001b[0m\n\u001b[1;32m    230\u001b[0m             raise ValueError(\"x and y must have same first dimension, but \"\n\u001b[0;32m--> 231\u001b[0;31m                              \"have shapes {} and {}\".format(x.shape, y.shape))\n\u001b[0m\u001b[1;32m    232\u001b[0m         \u001b[0;32mif\u001b[0m \u001b[0mx\u001b[0m\u001b[0;34m.\u001b[0m\u001b[0mndim\u001b[0m \u001b[0;34m>\u001b[0m \u001b[0;36m2\u001b[0m \u001b[0;32mor\u001b[0m \u001b[0my\u001b[0m\u001b[0;34m.\u001b[0m\u001b[0mndim\u001b[0m \u001b[0;34m>\u001b[0m \u001b[0;36m2\u001b[0m\u001b[0;34m:\u001b[0m\u001b[0;34m\u001b[0m\u001b[0;34m\u001b[0m\u001b[0m\n\u001b[1;32m    233\u001b[0m             raise ValueError(\"x and y can be no greater than 2-D, but have \"\n",
      "\u001b[0;31mValueError\u001b[0m: x and y must have same first dimension, but have shapes (6,) and (1,)"
     ]
    },
    {
     "data": {
      "image/png": "[encoded data removed]",
      "text/plain": [
       "<Figure size 432x288 with 1 Axes>"
      ]
     },
     "metadata": {
      "needs_background": "light"
     },
     "output_type": "display_data"
    }
   ],
   "source": [
    "nPoints = 20\n",
    "stretchFactors = [1, 1.25, 2, 3, 4, 5]\n",
    "yAggregator = []\n",
    "numShots = 4096\n",
    "\n",
    "for sf in stretchFactors:\n",
    "    y = []\n",
    "        \n",
    "    # Thermal Relaxation Error - T1\n",
    "    T1 = 12000  # nanoseconds\n",
    "    T2 = T1 * 2 # nanoseconds\n",
    "    Tau0 = 50   # nanoseconds\n",
    "    pulseWidth = sf * Tau0 \n",
    "\n",
    "    thermalError1bit = thermal_relaxation_error(T1, T2, pulseWidth)\n",
    "    thermalError2bit = thermal_relaxation_error(T1, T2, pulseWidth).kron(\n",
    "                        thermal_relaxation_error(T1, T2, pulseWidth))\n",
    "\n",
    "    return_list = CompileAndTeleport(numShots = numShots,\n",
    "                                errors1Qubit = [thermalError1bit], errors2Qubit = [thermalError2bit])\n",
    "    \n",
    "    # What Bob measures: \n",
    "    bob = {}\n",
    "    bob['0'] = counts['00'] + counts['01']\n",
    "    bob['1'] = counts['10'] + counts['11'] \n",
    "    a1 = np.sqrt(bob['0']/(bob['0']+bob['1']))\n",
    "    b1 = np.sqrt(bob['1']/(bob['0']+bob['1']))\n",
    "    \n",
    "    fidelity = ((mag_a0*a1) + (mag_b0*b1)).real\n",
    "\n",
    "    y.append(fidelity)\n",
    "    \n",
    "    yAggregator.append(fidelity)\n",
    "\n",
    "plt.plot(stretchFactors, y, label=\"stretch factor = {0}\".format(sf))\n",
    "\n",
    "plt.legend()\n",
    "plt.show()"
   ]
  },
  {
   "cell_type": "markdown",
   "metadata": {},
   "source": [
    "## Extrapolate to Maximize Noise Mitigation"
   ]
  },
  {
   "cell_type": "code",
   "execution_count": null,
   "metadata": {},
   "outputs": [],
   "source": [
    "deg = 2\n",
    "\n",
    "yFitted = []\n",
    "errFitted = []\n",
    "\n",
    "for j in range(nPoints):\n",
    "    y = []\n",
    "    for i in range(len(stretchFactors)):\n",
    "        y.append(yAggregator[i][j])\n",
    "        \n",
    "    p, V = np.polyfit(stretchFactors, y, deg, cov = True)\n",
    "    yFitted.append(np.max(p[deg], 0))\n",
    "    errFitted.append(np.sqrt(V[deg][deg]))\n",
    "\n",
    "for run in range(len(stretchFactors)):\n",
    "    plt.plot(gatePairCounts, yAggregator[run], label=\"Stretch Factor = {0}\".format(stretchFactors[run]))\n",
    "\n",
    "plt.errorbar(gatePairCounts, yFitted, yerr=errFitted, label=\"Mitigated\")\n",
    "\n",
    "plt.legend()\n",
    "plt.show()"
   ]
  },
  {
   "cell_type": "markdown",
   "metadata": {},
   "source": [
    "# Other Errors:"
   ]
  },
  {
   "cell_type": "markdown",
   "metadata": {},
   "source": [
    "### 1. Pauli Errors -- Doesn't work yet!"
   ]
  },
  {
   "cell_type": "code",
   "execution_count": null,
   "metadata": {},
   "outputs": [],
   "source": [
    "# Generate Data\n",
    "nPoints = 20\n",
    "probailities = [0.001, 0.01, 0.05, 0.1, 0.15]\n",
    "gatePairCounts = [x*10 for x in range(nPoints)]\n",
    "yAggregator = []\n",
    "\n",
    "for pb in probailities:\n",
    "    y = []\n",
    "    \n",
    "    for gpc in gatePairCounts:\n",
    "        \n",
    "        # Thermal Relaxation Error - T1\n",
    "        pauliErr = pauli_error([('X', pb), ('I', 1 - pb)])\n",
    "        \n",
    "        counts = CompileAndSimulate(gatePairCount = gpc, nQubits = 1, bitIdx = 0, \n",
    "                                    errors1Qubit = [pauliErr], errors2Qubit = [])\n",
    "        \n",
    "        if(counts[\"0\"] == None): \n",
    "            p = 0\n",
    "        else:\n",
    "            p = counts[\"0\"]/1024\n",
    "            \n",
    "        y.append(p)\n",
    "    \n",
    "    yAggregator.append(y)\n",
    "    \n",
    "# Extrapolate\n",
    "deg = 2\n",
    "\n",
    "yFitted = []\n",
    "errFitted = []\n",
    "\n",
    "for j in range(nPoints):\n",
    "    y = []\n",
    "    for i in range(len(probabilities)):\n",
    "        y.append(yAggregator[i][j])\n",
    "        \n",
    "    p, V = np.polyfit(stretchFactors, y, deg, cov = True)\n",
    "    yFitted.append(np.max(p[deg], 0))\n",
    "    errFitted.append(np.sqrt(V[deg][deg]))\n",
    "\n",
    "for run in range(len(stretchFactors)):\n",
    "    plt.plot(gatePairCounts, yAggregator[run], label=\"Stretch Factor = {0}\".format(stretchFactors[run]))\n",
    "\n",
    "plt.errorbar(gatePairCounts, yFitted, yerr=errFitted, label=\"Mitigated\")\n",
    "\n",
    "plt.legend()\n",
    "plt.show()    \n",
    "    "
   ]
  }
 ],
 "metadata": {
  "kernelspec": {
   "display_name": "Python 3",
   "language": "python",
   "name": "python3"
  },
  "language_info": {
   "codemirror_mode": {
    "name": "ipython",
    "version": 3
   },
   "file_extension": ".py",
   "mimetype": "text/x-python",
   "name": "python",
   "nbconvert_exporter": "python",
   "pygments_lexer": "ipython3",
   "version": "3.7.2"
  }
 },
 "nbformat": 4,
 "nbformat_minor": 2
}
