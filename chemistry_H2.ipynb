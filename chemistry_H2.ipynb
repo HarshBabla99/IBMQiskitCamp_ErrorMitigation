{
 "cells": [
  {
   "cell_type": "code",
   "execution_count": null,
   "metadata": {},
   "outputs": [
    {
     "name": "stderr",
     "output_type": "stream",
     "text": [
      "Qasm simulation does not work on matrix mode, changing the operator_mode to \"paulis\"\n",
      "Qasm simulation does not work on matrix mode, changing the operator_mode to \"paulis\"\n"
     ]
    },
    {
     "name": "stdout",
     "output_type": "stream",
     "text": [
      "-1.0004696761474001\n"
     ]
    },
    {
     "name": "stderr",
     "output_type": "stream",
     "text": [
      "Qasm simulation does not work on matrix mode, changing the operator_mode to \"paulis\"\n"
     ]
    },
    {
     "name": "stdout",
     "output_type": "stream",
     "text": [
      "-0.865467857433377\n"
     ]
    }
   ],
   "source": [
    "import numpy as np\n",
    "from collections import OrderedDict\n",
    "from qiskit.chemistry import FermionicOperator\n",
    "from qiskit.chemistry.drivers import PySCFDriver, UnitsType\n",
    "# Import the noise model object\n",
    "from qiskit.providers.aer.noise import NoiseModel\n",
    "\n",
    "# Import all standard errors\n",
    "from qiskit.providers.aer.noise.errors import *  \n",
    "\n",
    "# Import noise base clases\n",
    "from qiskit.providers.aer.noise.errors.quantum_error import QuantumError\n",
    "from qiskit.providers.aer.noise.errors.readout_error import ReadoutError\n",
    "# import NoisyQuantumCircuit as NoisyQuantumCircuit\n",
    "\n",
    "# Use PySCF, a classical computational chemistry software package, to compute the one- and\n",
    "# two-body integrals in molecular-orbital basis, necessary to form the Fermionic operator\n",
    "driver = PySCFDriver(atom='H .0 .0 .0; H .0 .0 0.735', unit=UnitsType.ANGSTROM,\n",
    "                     charge=0, spin=0, basis='sto3g')\n",
    "molecule = driver.run()\n",
    "num_particles = molecule.num_alpha + molecule.num_beta\n",
    "num_spin_orbitals = molecule.num_orbitals * 2\n",
    "\n",
    "# Build the qubit operator, which is the input to the VQE algorithm in Aqua\n",
    "ferOp = FermionicOperator(h1=molecule.one_body_integrals, h2=molecule.two_body_integrals)\n",
    "map_type = 'PARITY'\n",
    "qubitOp = ferOp.mapping(map_type)\n",
    "qubitOp = qubitOp.two_qubit_reduced_operator(num_particles)\n",
    "num_qubits = qubitOp.num_qubits\n",
    "\n",
    "# set the backend for the quantum computation\n",
    "from qiskit import Aer\n",
    "# backend = Aer.get_backend('statevector_simulator')\n",
    "backend = Aer.get_backend('qasm_simulator')\n",
    "\n",
    "# setup a classical optimizer for VQE\n",
    "from qiskit.aqua.components.optimizers import L_BFGS_B\n",
    "optimizer = L_BFGS_B()\n",
    "\n",
    "# setup the initial state for the variational form\n",
    "from qiskit.chemistry.aqua_extensions.components.initial_states import HartreeFock\n",
    "init_state = HartreeFock(num_qubits, num_spin_orbitals, num_particles)\n",
    "\n",
    "# setup the variational form for VQE\n",
    "from qiskit.aqua.components.variational_forms import RYRZ\n",
    "var_form = RYRZ(num_qubits, initial_state=init_state)\n",
    "\n",
    "\n",
    "T1Vec = np.linspace(30000,8000,5)\n",
    "eigValVec = np.zeros((len(T1Vec),))\n",
    "for idx in range(len(T1Vec)):\n",
    "    # T1 = 12000  # nanoseconds\n",
    "    T1 = T1Vec[idx]\n",
    "    T2 = T1 * 2 # nanoseconds\n",
    "    Tau0 = 50   # nanoseconds    \n",
    "    pulseWidth = 1.25*Tau0\n",
    "\n",
    "    errors1Qubit = thermal_relaxation_error(T1, T2, pulseWidth)\n",
    "    errors2Qubit = thermal_relaxation_error(T1, T2, pulseWidth).kron(\n",
    "                    thermal_relaxation_error(T1, T2, pulseWidth))\n",
    "\n",
    "\n",
    "    # setup and run VQE\n",
    "    from qiskit.aqua.algorithms import VQE\n",
    "    algorithm = VQE(qubitOp, var_form, optimizer, [errors1Qubit],[errors2Qubit])\n",
    "    # algorithm.print_setting\n",
    "    # print(qubitOp,algorithm.solve())\n",
    "\n",
    "    # algorithm.construct\n",
    "    # print(algorithm)\n",
    "\n",
    "    result = algorithm.run(backend)\n",
    "    eigValVec[idx] = result['eigvals'][0]\n",
    "    print(eigValVec[idx])"
   ]
  },
  {
   "cell_type": "code",
   "execution_count": null,
   "metadata": {},
   "outputs": [],
   "source": [
    "# print(result['eigvals'][0])"
   ]
  },
  {
   "cell_type": "code",
   "execution_count": null,
   "metadata": {},
   "outputs": [],
   "source": [
    "# import numpy as np\n",
    "# T1Vec = np.linspace(12000,500,4)\n",
    "# print(T1Vec)"
   ]
  },
  {
   "cell_type": "code",
   "execution_count": null,
   "metadata": {},
   "outputs": [],
   "source": []
  }
 ],
 "metadata": {
  "kernelspec": {
   "display_name": "Python 3",
   "language": "python",
   "name": "python3"
  },
  "language_info": {
   "codemirror_mode": {
    "name": "ipython",
    "version": 3
   },
   "file_extension": ".py",
   "mimetype": "text/x-python",
   "name": "python",
   "nbconvert_exporter": "python",
   "pygments_lexer": "ipython3",
   "version": "3.6.6"
  }
 },
 "nbformat": 4,
 "nbformat_minor": 2
}
