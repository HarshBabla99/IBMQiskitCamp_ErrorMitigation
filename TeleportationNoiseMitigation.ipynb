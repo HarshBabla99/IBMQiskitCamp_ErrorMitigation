{
 "cells": [
  {
   "cell_type": "markdown",
   "metadata": {},
   "source": [
    "# Noise Mitigation on 1-bit Teleportation:"
   ]
  },
  {
   "cell_type": "markdown",
   "metadata": {},
   "source": [
    "## Circuit:"
   ]
  },
  {
   "cell_type": "code",
   "execution_count": 100,
   "metadata": {},
   "outputs": [],
   "source": [
    "import numpy as np\n",
    "import matplotlib.pyplot as plt\n",
    "%matplotlib inline  \n",
    "\n",
    "import qiskit\n",
    "from qiskit import QuantumCircuit, QuantumRegister, ClassicalRegister\n",
    "from qiskit.tools import visualization as qplt\n",
    "\n",
    "import NoisyQuantumCircuit as NoisyQuantumCircuit"
   ]
  },
  {
   "cell_type": "code",
   "execution_count": 101,
   "metadata": {},
   "outputs": [],
   "source": [
    "from qiskit import Aer\n",
    "import qiskit.providers.aer as aer\n",
    "from qiskit.providers.aer import QasmSimulator, StatevectorSimulator, UnitarySimulator"
   ]
  },
  {
   "cell_type": "code",
   "execution_count": 102,
   "metadata": {},
   "outputs": [],
   "source": [
    "# Import the noise model object\n",
    "from qiskit.providers.aer.noise import NoiseModel\n",
    "\n",
    "# Import all standard errors\n",
    "from qiskit.providers.aer.noise.errors import *  \n",
    "\n",
    "# Import noise base clases\n",
    "from qiskit.providers.aer.noise.errors.quantum_error import QuantumError\n",
    "from qiskit.providers.aer.noise.errors.readout_error import ReadoutError\n",
    "\n",
    "# Import Complex math + random numbers\n",
    "import random\n",
    "from cmath import *"
   ]
  },
  {
   "cell_type": "code",
   "execution_count": 103,
   "metadata": {},
   "outputs": [],
   "source": [
    "def get_random_state():\n",
    "    theta = np.pi*random.random()\n",
    "    phi = 2*np.pi*random.random()\n",
    "\n",
    "    a = np.cos(theta/2)\n",
    "    b = rect(1,phi)*np.sin(theta/2)\n",
    "    \n",
    "    return a, b, theta, phi"
   ]
  },
  {
   "cell_type": "code",
   "execution_count": 104,
   "metadata": {},
   "outputs": [],
   "source": [
    "def CompileAndTeleport(errors1Qubit, errors2Qubit, nQubits = 2, numShots = 1024, debug = False):\n",
    "    \n",
    "    # Simulator, and constants\n",
    "    qSimulator = QasmSimulator() \n",
    "    \n",
    "    # System Specification\n",
    "    qReg = QuantumRegister(nQubits)\n",
    "    cReg = ClassicalRegister(nQubits)\n",
    "    #qNoisyCirc = NoisyQuantumCircuit.NoisyQuantumCircuit(qReg, cReg, nQubits, errors1Qubit, errors2Qubit)\n",
    "    \n",
    "    qCirc = QuantumCircuit(qReg,cReg)\n",
    "    \n",
    "    # Initialize to a random initial state\n",
    "    a0,b0, theta, phi = get_random_state()\n",
    "    qCirc.u3(theta, phi, 0, qReg[0])\n",
    "    \n",
    "    # Teleportation Circuit\n",
    "    qCirc.cx(qReg[0], qReg[1])\n",
    "    qCirc.h(qReg[0])\n",
    "\n",
    "    qCirc.barrier(qReg)\n",
    "    qCirc.measure(qReg[0], cReg[0])\n",
    "\n",
    "    qCirc.z(qReg[1]).c_if(cReg, 1)\n",
    "\n",
    "    # Measure\n",
    "    qCirc.measure(qReg[1], cReg[1])\n",
    "    \n",
    "    # Debug: Print the error model and plot the circuit\n",
    "    if(debug):\n",
    "        print(\"Errors: \")\n",
    "        for errors in zip(errors1Qubit, errors2Qubit):\n",
    "            print(errors)\n",
    "        #print(qNoisyCirc.draw())\n",
    "    \n",
    "    # Execute the noisy simulation\n",
    "    qNoisyCirc = NoisyQuantumCircuit.NoisyQuantumCircuit(qCirc, nQubits, errors1Qubit, errors2Qubit)\n",
    "    result = qiskit.execute(qNoisyCirc.getQuantumCircuit(), qSimulator, shots=numShots, \n",
    "                           basis_gates = qNoisyCirc.getNoiseModel().basis_gates,\n",
    "                           noise_model = qNoisyCirc.getNoiseModel()).result()\n",
    "    counts = result.get_counts(0)\n",
    "\n",
    "    if(debug):\n",
    "        print(counts)\n",
    "        \n",
    "    \n",
    "    # Return magnitudes of a0, b0 instead:\n",
    "    mag_a0 = np.sqrt(a0*a0.conjugate()).real\n",
    "    mag_b0 = np.sqrt(b0*b0.conjugate()).real\n",
    "    \n",
    "    return (counts, mag_a0, mag_b0)"
   ]
  },
  {
   "cell_type": "markdown",
   "metadata": {},
   "source": [
    "## Try with one simulation - Thermal Relaxation T1 noise"
   ]
  },
  {
   "cell_type": "code",
   "execution_count": 105,
   "metadata": {},
   "outputs": [
    {
     "name": "stdout",
     "output_type": "stream",
     "text": [
      "Errors: \n",
      "(QuantumError([([{'name': 'kraus', 'qubits': [0], 'params': [array([[1.        , 0.        ],\n",
      "       [0.        , 0.53526143]]), array([[0.        , 0.84468645],\n",
      "       [0.        , 0.        ]])]}], 1)]), QuantumError([([{'name': 'kraus', 'qubits': [0, 1], 'params': [array([[1.        , 0.        , 0.        , 0.        ],\n",
      "       [0.        , 0.53526143, 0.        , 0.        ],\n",
      "       [0.        , 0.        , 0.53526143, 0.        ],\n",
      "       [0.        , 0.        , 0.        , 0.2865048 ]]), array([[0.        , 0.        , 0.84468645, 0.        ],\n",
      "       [0.        , 0.        , 0.        , 0.45212808],\n",
      "       [0.        , 0.        , 0.        , 0.        ],\n",
      "       [0.        , 0.        , 0.        , 0.        ]]), array([[0.        , 0.84468645, 0.        , 0.        ],\n",
      "       [0.        , 0.        , 0.        , 0.        ],\n",
      "       [0.        , 0.        , 0.        , 0.45212808],\n",
      "       [0.        , 0.        , 0.        , 0.        ]]), array([[0.       , 0.       , 0.       , 0.7134952],\n",
      "       [0.       , 0.       , 0.       , 0.       ],\n",
      "       [0.       , 0.       , 0.       , 0.       ],\n",
      "       [0.       , 0.       , 0.       , 0.       ]])]}], 1)]))\n",
      "{'10': 11, '01': 152, '00': 861}\n",
      "{'10': 11, '01': 152, '00': 861}\n"
     ]
    },
    {
     "data": {
      "image/png": "[encoded data removed]",
      "text/plain": [
       "<Figure size 504x360 with 1 Axes>"
      ]
     },
     "execution_count": 105,
     "metadata": {},
     "output_type": "execute_result"
    }
   ],
   "source": [
    "T1 = 50  # nanoseconds\n",
    "T2 = T1 * 2 # nanoseconds\n",
    "Tau0 = 50   # nanoseconds    \n",
    "pulseWidth = 1.25*Tau0\n",
    "\n",
    "thermalError1bit = thermal_relaxation_error(T1, T2, pulseWidth)\n",
    "thermalError2bit = thermal_relaxation_error(T1, T2, pulseWidth).kron(\n",
    "                    thermal_relaxation_error(T1, T2, pulseWidth))\n",
    "\n",
    "\n",
    "return_list = CompileAndTeleport(debug = True, \n",
    "                            errors1Qubit = [thermalError1bit], errors2Qubit = [thermalError2bit])\n",
    "counts = return_list[0]\n",
    "mag_a0 = return_list[1]\n",
    "mag_b0 = return_list[2]\n",
    "\n",
    "print(counts)\n",
    "qplt.plot_histogram(counts)"
   ]
  },
  {
   "cell_type": "code",
   "execution_count": 107,
   "metadata": {},
   "outputs": [
    {
     "data": {
      "image/png": "[encoded data removed]",
      "text/plain": [
       "<Figure size 504x360 with 1 Axes>"
      ]
     },
     "execution_count": 107,
     "metadata": {},
     "output_type": "execute_result"
    }
   ],
   "source": [
    "bob = {}\n",
    "\n",
    "for key in ['00','01','10','11']:\n",
    "    if key not in counts:\n",
    "        counts[key] = 0\n",
    "\n",
    "bob['0'] = counts['00'] + counts['01']\n",
    "bob['1'] = counts['10'] + counts['11'] \n",
    "qplt.plot_histogram(bob)"
   ]
  },
  {
   "cell_type": "code",
   "execution_count": 108,
   "metadata": {},
   "outputs": [
    {
     "name": "stdout",
     "output_type": "stream",
     "text": [
      "Initial mag: 0.9514261267057077 0.3078771271494112\n",
      "Final amp: 0.9946144039274718 0.10364452469860624\n",
      "Fidelity: 0.9782119084033938\n"
     ]
    }
   ],
   "source": [
    "a1 = np.sqrt(bob['0']/(bob['0']+bob['1']))\n",
    "b1 = np.sqrt(bob['1']/(bob['0']+bob['1']))\n",
    "\n",
    "print(\"Initial mag:\", mag_a0, mag_b0)\n",
    "print(\"Final amp:\", a1, b1)\n",
    "\n",
    "fidelity = ((mag_a0*a1) + (mag_b0*b1)).real\n",
    "\n",
    "print(\"Fidelity:\", fidelity)"
   ]
  },
  {
   "cell_type": "markdown",
   "metadata": {},
   "source": [
    "## Multiple Simulations with increasing noise"
   ]
  },
  {
   "cell_type": "code",
   "execution_count": 113,
   "metadata": {},
   "outputs": [
    {
     "data": {
      "image/png": "[encoded data removed]",
      "text/plain": [
       "<Figure size 432x288 with 1 Axes>"
      ]
     },
     "metadata": {
      "needs_background": "light"
     },
     "output_type": "display_data"
    }
   ],
   "source": [
    "stretchFactors = [1, 2, 3, 4, 5,6,7,8,9,10]\n",
    "yAggregator = []\n",
    "numShots = 10000\n",
    "\n",
    "for sf in stretchFactors:\n",
    "        \n",
    "    # Thermal Relaxation Error - T1\n",
    "    T1 = 250  # nanoseconds\n",
    "    T2 = T1 * 2 # nanoseconds\n",
    "    Tau0 = 50   # nanoseconds\n",
    "    pulseWidth = sf * Tau0 \n",
    "\n",
    "    thermalError1bit = thermal_relaxation_error(T1, T2, pulseWidth)\n",
    "    thermalError2bit = thermal_relaxation_error(T1, T2, pulseWidth).kron(\n",
    "                        thermal_relaxation_error(T1, T2, pulseWidth))\n",
    "\n",
    "    return_list = CompileAndTeleport(numShots = numShots,\n",
    "                                errors1Qubit = [thermalError1bit], errors2Qubit = [thermalError2bit])\n",
    "    \n",
    "    counts = return_list[0]\n",
    "    mag_a0 = return_list[1]\n",
    "    mag_b0 = return_list[2]\n",
    "\n",
    "    # What Bob measures: \n",
    "    bob = {}\n",
    "    for key in ['00','01','10','11']:\n",
    "        if key not in counts:\n",
    "            counts[key] = 0\n",
    "        \n",
    "    bob['0'] = counts['00'] + counts['01']\n",
    "    bob['1'] = counts['10'] + counts['11'] \n",
    "    a1 = np.sqrt(bob['0']/(bob['0']+bob['1']))\n",
    "    b1 = np.sqrt(bob['1']/(bob['0']+bob['1']))\n",
    "    \n",
    "    \n",
    "    fidelity = ((mag_a0*a1) + (mag_b0*b1)).real\n",
    "    yAggregator.append(fidelity)\n",
    "\n",
    "plt.plot(stretchFactors, yAggregator, label=\"stretch factor\".format(sf),linestyle='--', marker='o')\n",
    "\n",
    "plt.legend()\n",
    "plt.show()"
   ]
  },
  {
   "cell_type": "markdown",
   "metadata": {},
   "source": [
    "## Extrapolate to Maximize Noise Mitigation"
   ]
  },
  {
   "cell_type": "code",
   "execution_count": 115,
   "metadata": {},
   "outputs": [
    {
     "data": {
      "image/png": "[encoded data removed]",
      "text/plain": [
       "<Figure size 432x288 with 1 Axes>"
      ]
     },
     "metadata": {
      "needs_background": "light"
     },
     "output_type": "display_data"
    },
    {
     "name": "stdout",
     "output_type": "stream",
     "text": [
      "Extrapolated fidelity: 0.9790238953651436 +/- 0.26577986875648374\n"
     ]
    }
   ],
   "source": [
    "deg = 2\n",
    "\n",
    "yFitted = 0\n",
    "errFitted = 0\n",
    "\n",
    "p, V = np.polyfit(stretchFactors, yAggregator, deg, cov = True)\n",
    "yFitted = np.max(p[deg], 0)\n",
    "errFitted = np.sqrt(V[deg][deg])\n",
    "\n",
    "\n",
    "plt.plot(stretchFactors, yAggregator, linestyle='--', marker='o', label=\"Stretch Factor\")\n",
    "plt.errorbar(0, yFitted, yerr=errFitted, label=\"Mitigated\", linestyle='--', marker='o')\n",
    "\n",
    "plt.legend()\n",
    "plt.show()\n",
    "\n",
    "print(\"Extrapolated fidelity:\",yFitted, \"+/-\", errFitted)"
   ]
  },
  {
   "cell_type": "markdown",
   "metadata": {},
   "source": [
    "# Other Errors:"
   ]
  },
  {
   "cell_type": "markdown",
   "metadata": {},
   "source": [
    "### 1. Pauli Errors! (Mitigation TBD)"
   ]
  },
  {
   "cell_type": "code",
   "execution_count": 116,
   "metadata": {},
   "outputs": [
    {
     "data": {
      "image/png": "[encoded data removed]",
      "text/plain": [
       "<Figure size 432x288 with 1 Axes>"
      ]
     },
     "metadata": {
      "needs_background": "light"
     },
     "output_type": "display_data"
    }
   ],
   "source": [
    "# Generate Data\n",
    "probailities = [0.001, 0.01, 0.05, 0.1, 0.15]\n",
    "yAggregator = []\n",
    "numShots = 10000\n",
    "\n",
    "for pb in probailities:\n",
    "        \n",
    "    # Pauli Error\n",
    "    pauliErr = pauli_error([('X', pb), ('I', 1 - pb)])\n",
    "    return_list = CompileAndTeleport(numShots = numShots,\n",
    "                                errors1Qubit = [pauliErr], errors2Qubit = [])\n",
    "    \n",
    "    counts = return_list[0]\n",
    "    mag_a0 = return_list[1]\n",
    "    mag_b0 = return_list[2]\n",
    "\n",
    "    # What Bob measures: \n",
    "    bob = {}\n",
    "    bob['0'] = counts['00'] + counts['01']\n",
    "    bob['1'] = counts['10'] + counts['11'] \n",
    "    a1 = np.sqrt(bob['0']/(bob['0']+bob['1']))\n",
    "    b1 = np.sqrt(bob['1']/(bob['0']+bob['1']))\n",
    "    \n",
    "    fidelity = ((mag_a0*a1) + (mag_b0*b1)).real\n",
    "    \n",
    "    yAggregator.append(fidelity)\n",
    "\n",
    "plt.plot(probailities, yAggregator, label=\"Flip Probability\".format(sf),linestyle='--', marker='o')\n",
    "\n",
    "plt.legend()\n",
    "plt.show()"
   ]
  },
  {
   "cell_type": "code",
   "execution_count": null,
   "metadata": {},
   "outputs": [],
   "source": []
  }
 ],
 "metadata": {
  "kernelspec": {
   "display_name": "Python 3",
   "language": "python",
   "name": "python3"
  },
  "language_info": {
   "codemirror_mode": {
    "name": "ipython",
    "version": 3
   },
   "file_extension": ".py",
   "mimetype": "text/x-python",
   "name": "python",
   "nbconvert_exporter": "python",
   "pygments_lexer": "ipython3",
   "version": "3.7.2"
  }
 },
 "nbformat": 4,
 "nbformat_minor": 2
}
